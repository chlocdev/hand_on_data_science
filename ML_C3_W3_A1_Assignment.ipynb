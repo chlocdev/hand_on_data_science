{
 "cells": [
  {
   "cell_type": "markdown",
   "metadata": {},
   "source": [
    "# Deep Q-Learning - Lunar Lander\n",
    "\n",
    "In this assignment, you will train an agent to land a lunar lander safely on a landing pad on the surface of the moon.\n",
    "\n",
    "\n",
    "# Outline\n",
    "- [ 1 - Import Packages <img align=\"Right\" src=\"./images/lunar_lander.gif\" width = 60% >](#1)\n",
    "- [ 2 - Hyperparameters](#2)\n",
    "- [ 3 - The Lunar Lander Environment](#3)\n",
    "  - [ 3.1 Action Space](#3.1)\n",
    "  - [ 3.2 Observation Space](#3.2)\n",
    "  - [ 3.3 Rewards](#3.3)\n",
    "  - [ 3.4 Episode Termination](#3.4)\n",
    "- [ 4 - Load the Environment](#4)\n",
    "- [ 5 - Interacting with the Gym Environment](#5)\n",
    "    - [ 5.1 Exploring the Environment's Dynamics](#5.1)\n",
    "- [ 6 - Deep Q-Learning](#6)\n",
    "  - [ 6.1 Target Network](#6.1)\n",
    "    - [ Exercise 1](#ex01)\n",
    "  - [ 6.2 Experience Replay](#6.2)\n",
    "- [ 7 - Deep Q-Learning Algorithm with Experience Replay](#7)\n",
    "  - [ Exercise 2](#ex02)\n",
    "- [ 8 - Update the Network Weights](#8)\n",
    "- [ 9 - Train the Agent](#9)\n",
    "- [ 10 - See the Trained Agent In Action](#10)\n",
    "- [ 11 - Congratulations!](#11)\n",
    "- [ 12 - References](#12)\n"
   ]
  },
  {
   "cell_type": "markdown",
   "metadata": {},
   "source": [
    "_**NOTE:** To prevent errors from the autograder, you are not allowed to edit or delete non-graded cells in this lab. Please also refrain from adding any new cells. \n",
    "**Once you have passed this assignment** and want to experiment with any of the non-graded code, you may follow the instructions at the bottom of this notebook._"
   ]
  },
  {
   "cell_type": "markdown",
   "metadata": {},
   "source": [
    "<a name=\"1\"></a>\n",
    "## 1 - Import Packages\n",
    "\n",
    "We'll make use of the following packages:\n",
    "- `numpy` is a package for scientific computing in python.\n",
    "- `deque` will be our data structure for our memory buffer.\n",
    "- `namedtuple` will be used to store the experience tuples.\n",
    "- The `gym` toolkit is a collection of environments that can be used to test reinforcement learning algorithms. We should note that in this notebook we are using `gym` version `0.24.0`.\n",
    "- `PIL.Image` and `pyvirtualdisplay` are needed to render the Lunar Lander environment.\n",
    "- We will use several modules from the `tensorflow.keras` framework for building deep learning models.\n",
    "- `utils` is a module that contains helper functions for this assignment. You do not need to modify the code in this file.\n",
    "\n",
    "Run the cell below to import all the necessary packages."
   ]
  },
  {
   "cell_type": "code",
   "execution_count": 1,
   "metadata": {
    "deletable": false,
    "editable": false,
    "id": "KYbOPKRtfQOr"
   },
   "outputs": [],
   "source": [
    "import time\n",
    "from collections import deque, namedtuple\n",
    "\n",
    "import gym\n",
    "import numpy as np\n",
    "import PIL.Image\n",
    "import tensorflow as tf\n",
    "import utils\n",
    "\n",
    "from pyvirtualdisplay import Display\n",
    "from tensorflow.keras import Sequential\n",
    "from tensorflow.keras.layers import Dense, Input\n",
    "from tensorflow.keras.losses import MSE\n",
    "from tensorflow.keras.optimizers import Adam"
   ]
  },
  {
   "cell_type": "code",
   "execution_count": 2,
   "metadata": {
    "deletable": false,
    "editable": false
   },
   "outputs": [],
   "source": [
    "# Set up a virtual display to render the Lunar Lander environment.\n",
    "Display(visible=0, size=(840, 480)).start();\n",
    "\n",
    "# Set the random seed for TensorFlow\n",
    "tf.random.set_seed(utils.SEED)"
   ]
  },
  {
   "cell_type": "markdown",
   "metadata": {},
   "source": [
    "<a name=\"2\"></a>\n",
    "## 2 - Hyperparameters\n",
    "\n",
    "Run the cell below to set the hyperparameters."
   ]
  },
  {
   "cell_type": "code",
   "execution_count": 3,
   "metadata": {
    "deletable": false,
    "editable": false
   },
   "outputs": [],
   "source": [
    "MEMORY_SIZE = 100_000     # size of memory buffer\n",
    "GAMMA = 0.995             # discount factor\n",
    "ALPHA = 1e-3              # learning rate  \n",
    "NUM_STEPS_FOR_UPDATE = 4  # perform a learning update every C time steps"
   ]
  },
  {
   "cell_type": "markdown",
   "metadata": {},
   "source": [
    "<a name=\"3\"></a>\n",
    "## 3 - The Lunar Lander Environment\n",
    "\n",
    "In this notebook we will be using [OpenAI's Gym Library](https://www.gymlibrary.dev/). The Gym library provides a wide variety of environments for reinforcement learning. To put it simply, an environment represents a problem or task to be solved. In this notebook, we will try to solve the Lunar Lander environment using reinforcement learning.\n",
    "\n",
    "The goal of the Lunar Lander environment is to land the lunar lander safely on the landing pad on the surface of the moon. The landing pad is designated by two flag poles and its center is at coordinates `(0,0)` but the lander is also allowed to land outside of the landing pad. The lander starts at the top center of the environment with a random initial force applied to its center of mass and has infinite fuel. The environment is considered solved if you get `200` points. \n",
    "\n",
    "<br>\n",
    "<br>\n",
    "<figure>\n",
    "  <img src = \"images/lunar_lander.gif\" width = 40%>\n",
    "      <figcaption style = \"text-align: center; font-style: italic\">Fig 1. Lunar Lander Environment.</figcaption>\n",
    "</figure>\n",
    "\n",
    "\n",
    "\n",
    "<a name=\"3.1\"></a>\n",
    "### 3.1 Action Space\n",
    "\n",
    "The agent has four discrete actions available:\n",
    "\n",
    "* Do nothing.\n",
    "* Fire right engine.\n",
    "* Fire main engine.\n",
    "* Fire left engine.\n",
    "\n",
    "Each action has a corresponding numerical value:\n",
    "\n",
    "```python\n",
    "Do nothing = 0\n",
    "Fire right engine = 1\n",
    "Fire main engine = 2\n",
    "Fire left engine = 3\n",
    "```\n",
    "\n",
    "<a name=\"3.2\"></a>\n",
    "### 3.2 Observation Space\n",
    "\n",
    "The agent's observation space consists of a state vector with 8 variables:\n",
    "\n",
    "* Its $(x,y)$ coordinates. The landing pad is always at coordinates $(0,0)$.\n",
    "* Its linear velocities $(\\dot x,\\dot y)$.\n",
    "* Its angle $\\theta$.\n",
    "* Its angular velocity $\\dot \\theta$.\n",
    "* Two booleans, $l$ and $r$, that represent whether each leg is in contact with the ground or not.\n",
    "\n",
    "<a name=\"3.3\"></a>\n",
    "### 3.3 Rewards\n",
    "\n",
    "After every step, a reward is granted. The total reward of an episode is the sum of the rewards for all the steps within that episode.\n",
    "\n",
    "For each step, the reward:\n",
    "- is increased/decreased the closer/further the lander is to the landing pad.\n",
    "- is increased/decreased the slower/faster the lander is moving.\n",
    "- is decreased the more the lander is tilted (angle not horizontal).\n",
    "- is increased by 10 points for each leg that is in contact with the ground.\n",
    "- is decreased by 0.03 points each frame a side engine is firing.\n",
    "- is decreased by 0.3 points each frame the main engine is firing.\n",
    "\n",
    "The episode receives an additional reward of -100 or +100 points for crashing or landing safely respectively.\n",
    "\n",
    "<a name=\"3.4\"></a>\n",
    "### 3.4 Episode Termination\n",
    "\n",
    "An episode ends (i.e the environment enters a terminal state) if:\n",
    "\n",
    "* The lunar lander crashes (i.e if the body of the lunar lander comes in contact with the surface of the moon).\n",
    "\n",
    "* The absolute value of the lander's $x$-coordinate is greater than 1 (i.e. it goes beyond the left or right border)\n",
    "\n",
    "You can check out the [Open AI Gym documentation](https://www.gymlibrary.dev/environments/box2d/lunar_lander/) for a full description of the environment. "
   ]
  },
  {
   "cell_type": "markdown",
   "metadata": {},
   "source": [
    "<a name=\"4\"></a>\n",
    "## 4 - Load the Environment\n",
    "\n",
    "We start by loading the `LunarLander-v2` environment from the `gym` library by using the `.make()` method. `LunarLander-v2` is the latest version of the Lunar Lander environment and you can read about its version history in the [Open AI Gym documentation](https://www.gymlibrary.dev/environments/box2d/lunar_lander/#version-history)."
   ]
  },
  {
   "cell_type": "code",
   "execution_count": 4,
   "metadata": {
    "deletable": false,
    "editable": false,
    "id": "ILVMYKewfR0n"
   },
   "outputs": [],
   "source": [
    "env = gym.make('LunarLander-v2')"
   ]
  },
  {
   "cell_type": "markdown",
   "metadata": {},
   "source": [
    "Once we load the environment we use the `.reset()` method to reset the environment to the initial state. The lander starts at the top center of the environment and we can render the first frame of the environment by using the `.render()` method."
   ]
  },
  {
   "cell_type": "code",
   "execution_count": 6,
   "metadata": {
    "deletable": false,
    "editable": false
   },
   "outputs": [
    {
     "data": {
      "image/png": "[encoded data removed]",
      "text/plain": [
       "<PIL.Image.Image image mode=RGB size=600x400 at 0x716DD71CD410>"
      ]
     },
     "execution_count": 6,
     "metadata": {},
     "output_type": "execute_result"
    }
   ],
   "source": [
    "env.reset()\n",
    "PIL.Image.fromarray(env.render(mode='rgb_array'))"
   ]
  },
  {
   "cell_type": "markdown",
   "metadata": {},
   "source": [
    "In order to build our neural network later on we need to know the size of the state vector and the number of valid actions. We can get this information from our environment by using the `.observation_space.shape` and `action_space.n` methods, respectively."
   ]
  },
  {
   "cell_type": "code",
   "execution_count": 7,
   "metadata": {
    "deletable": false,
    "editable": false,
    "id": "x3fdqdG4CUu2"
   },
   "outputs": [
    {
     "name": "stdout",
     "output_type": "stream",
     "text": [
      "State Shape: (8,)\n",
      "Number of actions: 4\n"
     ]
    }
   ],
   "source": [
    "state_size = env.observation_space.shape\n",
    "num_actions = env.action_space.n\n",
    "\n",
    "print('State Shape:', state_size)\n",
    "print('Number of actions:', num_actions)"
   ]
  },
  {
   "cell_type": "markdown",
   "metadata": {},
   "source": [
    "<a name=\"5\"></a>\n",
    "## 5 - Interacting with the Gym Environment\n",
    "\n",
    "The Gym library implements the standard “agent-environment loop” formalism:\n",
    "\n",
    "<br>\n",
    "<center>\n",
    "<video src = \"./videos/rl_formalism.m4v\" width=\"840\" height=\"480\" controls autoplay loop poster=\"./images/rl_formalism.png\"> </video>\n",
    "<figcaption style = \"text-align:center; font-style:italic\">Fig 2. Agent-environment Loop Formalism.</figcaption>\n",
    "</center>\n",
    "<br>\n",
    "\n",
    "In the standard “agent-environment loop” formalism, an agent interacts with the environment in discrete time steps $t=0,1,2,...$. At each time step $t$, the agent uses a policy $\\pi$ to select an action $A_t$ based on its observation of the environment's state $S_t$. The agent receives a numerical reward $R_t$ and on the next time step, moves to a new state $S_{t+1}$.\n",
    "\n",
    "<a name=\"5.1\"></a>\n",
    "### 5.1 Exploring the Environment's Dynamics\n",
    "\n",
    "In Open AI's Gym environments, we use the `.step()` method to run a single time step of the environment's dynamics. In the version of `gym` that we are using the `.step()` method accepts an action and returns four values:\n",
    "\n",
    "* `observation` (**object**): an environment-specific object representing your observation of the environment. In the Lunar Lander environment this corresponds to a numpy array containing the positions and velocities of the lander as described in section [3.2 Observation Space](#3.2).\n",
    "\n",
    "\n",
    "* `reward` (**float**): amount of reward returned as a result of taking the given action. In the Lunar Lander environment this corresponds to a float of type `numpy.float64` as described in section [3.3 Rewards](#3.3).\n",
    "\n",
    "\n",
    "* `done` (**boolean**): When done is `True`, it indicates the episode has terminated and it’s time to reset the environment. \n",
    "\n",
    "\n",
    "* `info` (**dictionary**): diagnostic information useful for debugging. We won't be using this variable in this notebook but it is shown here for completeness.\n",
    "\n",
    "To begin an episode, we need to reset the environment to an initial state. We do this by using the `.reset()` method. "
   ]
  },
  {
   "cell_type": "code",
   "execution_count": 8,
   "metadata": {
    "deletable": false,
    "editable": false
   },
   "outputs": [],
   "source": [
    "# Reset the environment and get the initial state.\n",
    "current_state = env.reset()"
   ]
  },
  {
   "cell_type": "markdown",
   "metadata": {},
   "source": [
    "Once the environment is reset, the agent can start taking actions in the environment by using the `.step()` method. Note that the agent can only take one action per time step. \n",
    "\n",
    "In the cell below you can select different actions and see how the returned values change depending on the action taken. Remember that in this environment the agent has four discrete actions available and we specify them in code by using their corresponding numerical value:\n",
    "\n",
    "```python\n",
    "Do nothing = 0\n",
    "Fire right engine = 1\n",
    "Fire main engine = 2\n",
    "Fire left engine = 3\n",
    "```"
   ]
  },
  {
   "cell_type": "code",
   "execution_count": 9,
   "metadata": {
    "deletable": false
   },
   "outputs": [
    {
     "data": {
      "text/html": [
       "<style  type=\"text/css\" >\n",
       "    #T_e6f6b43a_2bee_11ef_a82a_0242ac120017 th {\n",
       "          border: 1px solid grey;\n",
       "          text-align: center;\n",
       "    }    #T_e6f6b43a_2bee_11ef_a82a_0242ac120017 tbody td {\n",
       "          border: 1px solid grey;\n",
       "          text-align: center;\n",
       "    }    #T_e6f6b43a_2bee_11ef_a82a_0242ac120017row0_col0 {\n",
       "            background-color :  grey;\n",
       "        }    #T_e6f6b43a_2bee_11ef_a82a_0242ac120017row1_col1 {\n",
       "            background-color :  grey;\n",
       "        }    #T_e6f6b43a_2bee_11ef_a82a_0242ac120017row1_col2 {\n",
       "            background-color :  grey;\n",
       "        }    #T_e6f6b43a_2bee_11ef_a82a_0242ac120017row1_col3 {\n",
       "            background-color :  grey;\n",
       "        }    #T_e6f6b43a_2bee_11ef_a82a_0242ac120017row1_col4 {\n",
       "            background-color :  grey;\n",
       "        }    #T_e6f6b43a_2bee_11ef_a82a_0242ac120017row1_col5 {\n",
       "            background-color :  grey;\n",
       "        }    #T_e6f6b43a_2bee_11ef_a82a_0242ac120017row1_col6 {\n",
       "            background-color :  grey;\n",
       "        }    #T_e6f6b43a_2bee_11ef_a82a_0242ac120017row1_col7 {\n",
       "            background-color :  grey;\n",
       "        }    #T_e6f6b43a_2bee_11ef_a82a_0242ac120017row1_col8 {\n",
       "            background-color :  grey;\n",
       "        }    #T_e6f6b43a_2bee_11ef_a82a_0242ac120017row1_col9 {\n",
       "            background-color :  grey;\n",
       "        }    #T_e6f6b43a_2bee_11ef_a82a_0242ac120017row1_col10 {\n",
       "            background-color :  grey;\n",
       "        }    #T_e6f6b43a_2bee_11ef_a82a_0242ac120017row1_col11 {\n",
       "            background-color :  grey;\n",
       "        }    #T_e6f6b43a_2bee_11ef_a82a_0242ac120017row2_col0 {\n",
       "            background-color :  grey;\n",
       "        }    #T_e6f6b43a_2bee_11ef_a82a_0242ac120017row3_col1 {\n",
       "            background-color :  grey;\n",
       "        }    #T_e6f6b43a_2bee_11ef_a82a_0242ac120017row3_col2 {\n",
       "            background-color :  grey;\n",
       "        }    #T_e6f6b43a_2bee_11ef_a82a_0242ac120017row3_col3 {\n",
       "            background-color :  grey;\n",
       "        }    #T_e6f6b43a_2bee_11ef_a82a_0242ac120017row3_col4 {\n",
       "            background-color :  grey;\n",
       "        }    #T_e6f6b43a_2bee_11ef_a82a_0242ac120017row3_col5 {\n",
       "            background-color :  grey;\n",
       "        }    #T_e6f6b43a_2bee_11ef_a82a_0242ac120017row3_col6 {\n",
       "            background-color :  grey;\n",
       "        }    #T_e6f6b43a_2bee_11ef_a82a_0242ac120017row3_col7 {\n",
       "            background-color :  grey;\n",
       "        }    #T_e6f6b43a_2bee_11ef_a82a_0242ac120017row3_col8 {\n",
       "            background-color :  grey;\n",
       "        }    #T_e6f6b43a_2bee_11ef_a82a_0242ac120017row3_col9 {\n",
       "            background-color :  grey;\n",
       "        }    #T_e6f6b43a_2bee_11ef_a82a_0242ac120017row3_col10 {\n",
       "            background-color :  grey;\n",
       "        }    #T_e6f6b43a_2bee_11ef_a82a_0242ac120017row3_col11 {\n",
       "            background-color :  grey;\n",
       "        }    #T_e6f6b43a_2bee_11ef_a82a_0242ac120017row4_col1 {\n",
       "            background-color :  grey;\n",
       "        }    #T_e6f6b43a_2bee_11ef_a82a_0242ac120017row4_col2 {\n",
       "            background-color :  grey;\n",
       "        }    #T_e6f6b43a_2bee_11ef_a82a_0242ac120017row4_col3 {\n",
       "            background-color :  grey;\n",
       "        }    #T_e6f6b43a_2bee_11ef_a82a_0242ac120017row4_col4 {\n",
       "            background-color :  grey;\n",
       "        }    #T_e6f6b43a_2bee_11ef_a82a_0242ac120017row4_col5 {\n",
       "            background-color :  grey;\n",
       "        }    #T_e6f6b43a_2bee_11ef_a82a_0242ac120017row4_col6 {\n",
       "            background-color :  grey;\n",
       "        }    #T_e6f6b43a_2bee_11ef_a82a_0242ac120017row4_col7 {\n",
       "            background-color :  grey;\n",
       "        }    #T_e6f6b43a_2bee_11ef_a82a_0242ac120017row4_col8 {\n",
       "            background-color :  grey;\n",
       "        }    #T_e6f6b43a_2bee_11ef_a82a_0242ac120017row4_col9 {\n",
       "            background-color :  grey;\n",
       "        }    #T_e6f6b43a_2bee_11ef_a82a_0242ac120017row4_col10 {\n",
       "            background-color :  grey;\n",
       "        }    #T_e6f6b43a_2bee_11ef_a82a_0242ac120017row4_col11 {\n",
       "            background-color :  grey;\n",
       "        }</style><table id=\"T_e6f6b43a_2bee_11ef_a82a_0242ac120017\" ><thead>    <tr>        <th class=\"blank level0\" ></th>        <th class=\"col_heading level0 col0\" ></th>        <th class=\"col_heading level0 col1\" colspan=8>State Vector</th>        <th class=\"col_heading level0 col9\" colspan=3>Derived from the State Vector (the closer to zero, the better)</th>    </tr>    <tr>        <th class=\"blank level1\" ></th>        <th class=\"col_heading level1 col0\" ></th>        <th class=\"col_heading level1 col1\" colspan=2>Coordinate</th>        <th class=\"col_heading level1 col3\" colspan=2>Velocity</th>        <th class=\"col_heading level1 col5\" colspan=2>Tilting</th>        <th class=\"col_heading level1 col7\" colspan=2>Ground contact</th>        <th class=\"col_heading level1 col9\" >Distance from landing pad</th>        <th class=\"col_heading level1 col10\" >Velocity</th>        <th class=\"col_heading level1 col11\" >Tilting Angle (absolute value)</th>    </tr>    <tr>        <th class=\"blank level2\" ></th>        <th class=\"col_heading level2 col0\" ></th>        <th class=\"col_heading level2 col1\" >X (Horizontal)</th>        <th class=\"col_heading level2 col2\" >Y (Vertical)</th>        <th class=\"col_heading level2 col3\" >X (Horizontal)</th>        <th class=\"col_heading level2 col4\" >Y (Vertical)</th>        <th class=\"col_heading level2 col5\" >Angle</th>        <th class=\"col_heading level2 col6\" >Angular Velocity</th>        <th class=\"col_heading level2 col7\" >Left Leg?</th>        <th class=\"col_heading level2 col8\" >Right Leg?</th>        <th class=\"col_heading level2 col9\" ></th>        <th class=\"col_heading level2 col10\" ></th>        <th class=\"col_heading level2 col11\" ></th>    </tr></thead><tbody>\n",
       "                <tr>\n",
       "                        <th id=\"T_e6f6b43a_2bee_11ef_a82a_0242ac120017level0_row0\" class=\"row_heading level0 row0\" >Current State</th>\n",
       "                        <td id=\"T_e6f6b43a_2bee_11ef_a82a_0242ac120017row0_col0\" class=\"data row0 col0\" ></td>\n",
       "                        <td id=\"T_e6f6b43a_2bee_11ef_a82a_0242ac120017row0_col1\" class=\"data row0 col1\" >-0.007748</td>\n",
       "                        <td id=\"T_e6f6b43a_2bee_11ef_a82a_0242ac120017row0_col2\" class=\"data row0 col2\" >1.419120</td>\n",
       "                        <td id=\"T_e6f6b43a_2bee_11ef_a82a_0242ac120017row0_col3\" class=\"data row0 col3\" >-0.784778</td>\n",
       "                        <td id=\"T_e6f6b43a_2bee_11ef_a82a_0242ac120017row0_col4\" class=\"data row0 col4\" >0.364432</td>\n",
       "                        <td id=\"T_e6f6b43a_2bee_11ef_a82a_0242ac120017row0_col5\" class=\"data row0 col5\" >0.008984</td>\n",
       "                        <td id=\"T_e6f6b43a_2bee_11ef_a82a_0242ac120017row0_col6\" class=\"data row0 col6\" >0.177764</td>\n",
       "                        <td id=\"T_e6f6b43a_2bee_11ef_a82a_0242ac120017row0_col7\" class=\"data row0 col7\" >False</td>\n",
       "                        <td id=\"T_e6f6b43a_2bee_11ef_a82a_0242ac120017row0_col8\" class=\"data row0 col8\" >False</td>\n",
       "                        <td id=\"T_e6f6b43a_2bee_11ef_a82a_0242ac120017row0_col9\" class=\"data row0 col9\" >1.419142</td>\n",
       "                        <td id=\"T_e6f6b43a_2bee_11ef_a82a_0242ac120017row0_col10\" class=\"data row0 col10\" >0.865267</td>\n",
       "                        <td id=\"T_e6f6b43a_2bee_11ef_a82a_0242ac120017row0_col11\" class=\"data row0 col11\" >0.008984</td>\n",
       "            </tr>\n",
       "            <tr>\n",
       "                        <th id=\"T_e6f6b43a_2bee_11ef_a82a_0242ac120017level0_row1\" class=\"row_heading level0 row1\" >Action</th>\n",
       "                        <td id=\"T_e6f6b43a_2bee_11ef_a82a_0242ac120017row1_col0\" class=\"data row1 col0\" >Do nothing</td>\n",
       "                        <td id=\"T_e6f6b43a_2bee_11ef_a82a_0242ac120017row1_col1\" class=\"data row1 col1\" ></td>\n",
       "                        <td id=\"T_e6f6b43a_2bee_11ef_a82a_0242ac120017row1_col2\" class=\"data row1 col2\" ></td>\n",
       "                        <td id=\"T_e6f6b43a_2bee_11ef_a82a_0242ac120017row1_col3\" class=\"data row1 col3\" ></td>\n",
       "                        <td id=\"T_e6f6b43a_2bee_11ef_a82a_0242ac120017row1_col4\" class=\"data row1 col4\" ></td>\n",
       "                        <td id=\"T_e6f6b43a_2bee_11ef_a82a_0242ac120017row1_col5\" class=\"data row1 col5\" ></td>\n",
       "                        <td id=\"T_e6f6b43a_2bee_11ef_a82a_0242ac120017row1_col6\" class=\"data row1 col6\" ></td>\n",
       "                        <td id=\"T_e6f6b43a_2bee_11ef_a82a_0242ac120017row1_col7\" class=\"data row1 col7\" ></td>\n",
       "                        <td id=\"T_e6f6b43a_2bee_11ef_a82a_0242ac120017row1_col8\" class=\"data row1 col8\" ></td>\n",
       "                        <td id=\"T_e6f6b43a_2bee_11ef_a82a_0242ac120017row1_col9\" class=\"data row1 col9\" ></td>\n",
       "                        <td id=\"T_e6f6b43a_2bee_11ef_a82a_0242ac120017row1_col10\" class=\"data row1 col10\" ></td>\n",
       "                        <td id=\"T_e6f6b43a_2bee_11ef_a82a_0242ac120017row1_col11\" class=\"data row1 col11\" ></td>\n",
       "            </tr>\n",
       "            <tr>\n",
       "                        <th id=\"T_e6f6b43a_2bee_11ef_a82a_0242ac120017level0_row2\" class=\"row_heading level0 row2\" >Next State</th>\n",
       "                        <td id=\"T_e6f6b43a_2bee_11ef_a82a_0242ac120017row2_col0\" class=\"data row2 col0\" ></td>\n",
       "                        <td id=\"T_e6f6b43a_2bee_11ef_a82a_0242ac120017row2_col1\" class=\"data row2 col1\" >-0.015496</td>\n",
       "                        <td id=\"T_e6f6b43a_2bee_11ef_a82a_0242ac120017row2_col2\" class=\"data row2 col2\" >1.426743</td>\n",
       "                        <td id=\"T_e6f6b43a_2bee_11ef_a82a_0242ac120017row2_col3\" class=\"data row2 col3\" >-0.783716</td>\n",
       "                        <td id=\"T_e6f6b43a_2bee_11ef_a82a_0242ac120017row2_col4\" class=\"data row2 col4\" >0.338718</td>\n",
       "                        <td id=\"T_e6f6b43a_2bee_11ef_a82a_0242ac120017row2_col5\" class=\"data row2 col5\" >0.017769</td>\n",
       "                        <td id=\"T_e6f6b43a_2bee_11ef_a82a_0242ac120017row2_col6\" class=\"data row2 col6\" >0.175698</td>\n",
       "                        <td id=\"T_e6f6b43a_2bee_11ef_a82a_0242ac120017row2_col7\" class=\"data row2 col7\" >False</td>\n",
       "                        <td id=\"T_e6f6b43a_2bee_11ef_a82a_0242ac120017row2_col8\" class=\"data row2 col8\" >False</td>\n",
       "                        <td id=\"T_e6f6b43a_2bee_11ef_a82a_0242ac120017row2_col9\" class=\"data row2 col9\" >1.426828</td>\n",
       "                        <td id=\"T_e6f6b43a_2bee_11ef_a82a_0242ac120017row2_col10\" class=\"data row2 col10\" >0.853780</td>\n",
       "                        <td id=\"T_e6f6b43a_2bee_11ef_a82a_0242ac120017row2_col11\" class=\"data row2 col11\" >0.017769</td>\n",
       "            </tr>\n",
       "            <tr>\n",
       "                        <th id=\"T_e6f6b43a_2bee_11ef_a82a_0242ac120017level0_row3\" class=\"row_heading level0 row3\" >Reward</th>\n",
       "                        <td id=\"T_e6f6b43a_2bee_11ef_a82a_0242ac120017row3_col0\" class=\"data row3 col0\" >-0.498333</td>\n",
       "                        <td id=\"T_e6f6b43a_2bee_11ef_a82a_0242ac120017row3_col1\" class=\"data row3 col1\" ></td>\n",
       "                        <td id=\"T_e6f6b43a_2bee_11ef_a82a_0242ac120017row3_col2\" class=\"data row3 col2\" ></td>\n",
       "                        <td id=\"T_e6f6b43a_2bee_11ef_a82a_0242ac120017row3_col3\" class=\"data row3 col3\" ></td>\n",
       "                        <td id=\"T_e6f6b43a_2bee_11ef_a82a_0242ac120017row3_col4\" class=\"data row3 col4\" ></td>\n",
       "                        <td id=\"T_e6f6b43a_2bee_11ef_a82a_0242ac120017row3_col5\" class=\"data row3 col5\" ></td>\n",
       "                        <td id=\"T_e6f6b43a_2bee_11ef_a82a_0242ac120017row3_col6\" class=\"data row3 col6\" ></td>\n",
       "                        <td id=\"T_e6f6b43a_2bee_11ef_a82a_0242ac120017row3_col7\" class=\"data row3 col7\" ></td>\n",
       "                        <td id=\"T_e6f6b43a_2bee_11ef_a82a_0242ac120017row3_col8\" class=\"data row3 col8\" ></td>\n",
       "                        <td id=\"T_e6f6b43a_2bee_11ef_a82a_0242ac120017row3_col9\" class=\"data row3 col9\" ></td>\n",
       "                        <td id=\"T_e6f6b43a_2bee_11ef_a82a_0242ac120017row3_col10\" class=\"data row3 col10\" ></td>\n",
       "                        <td id=\"T_e6f6b43a_2bee_11ef_a82a_0242ac120017row3_col11\" class=\"data row3 col11\" ></td>\n",
       "            </tr>\n",
       "            <tr>\n",
       "                        <th id=\"T_e6f6b43a_2bee_11ef_a82a_0242ac120017level0_row4\" class=\"row_heading level0 row4\" >Episode Terminated</th>\n",
       "                        <td id=\"T_e6f6b43a_2bee_11ef_a82a_0242ac120017row4_col0\" class=\"data row4 col0\" >False</td>\n",
       "                        <td id=\"T_e6f6b43a_2bee_11ef_a82a_0242ac120017row4_col1\" class=\"data row4 col1\" ></td>\n",
       "                        <td id=\"T_e6f6b43a_2bee_11ef_a82a_0242ac120017row4_col2\" class=\"data row4 col2\" ></td>\n",
       "                        <td id=\"T_e6f6b43a_2bee_11ef_a82a_0242ac120017row4_col3\" class=\"data row4 col3\" ></td>\n",
       "                        <td id=\"T_e6f6b43a_2bee_11ef_a82a_0242ac120017row4_col4\" class=\"data row4 col4\" ></td>\n",
       "                        <td id=\"T_e6f6b43a_2bee_11ef_a82a_0242ac120017row4_col5\" class=\"data row4 col5\" ></td>\n",
       "                        <td id=\"T_e6f6b43a_2bee_11ef_a82a_0242ac120017row4_col6\" class=\"data row4 col6\" ></td>\n",
       "                        <td id=\"T_e6f6b43a_2bee_11ef_a82a_0242ac120017row4_col7\" class=\"data row4 col7\" ></td>\n",
       "                        <td id=\"T_e6f6b43a_2bee_11ef_a82a_0242ac120017row4_col8\" class=\"data row4 col8\" ></td>\n",
       "                        <td id=\"T_e6f6b43a_2bee_11ef_a82a_0242ac120017row4_col9\" class=\"data row4 col9\" ></td>\n",
       "                        <td id=\"T_e6f6b43a_2bee_11ef_a82a_0242ac120017row4_col10\" class=\"data row4 col10\" ></td>\n",
       "                        <td id=\"T_e6f6b43a_2bee_11ef_a82a_0242ac120017row4_col11\" class=\"data row4 col11\" ></td>\n",
       "            </tr>\n",
       "    </tbody></table>"
      ],
      "text/plain": [
       "<pandas.io.formats.style.Styler at 0x716e69120750>"
      ]
     },
     "metadata": {},
     "output_type": "display_data"
    }
   ],
   "source": [
    "# Select an action\n",
    "action = 0\n",
    "\n",
    "# Run a single time step of the environment's dynamics with the given action.\n",
    "next_state, reward, done, _ = env.step(action)\n",
    "\n",
    "# Display table with values.\n",
    "utils.display_table(current_state, action, next_state, reward, done)\n",
    "\n",
    "# Replace the `current_state` with the state after the action is taken\n",
    "current_state = next_state"
   ]
  },
  {
   "cell_type": "markdown",
   "metadata": {},
   "source": [
    "In practice, when we train the agent we use a loop to allow the agent to take many consecutive actions during an episode."
   ]
  },
  {
   "cell_type": "markdown",
   "metadata": {},
   "source": [
    "<a name=\"6\"></a>\n",
    "## 6 - Deep Q-Learning\n",
    "\n",
    "In cases where both the state and action space are discrete we can estimate the action-value function iteratively by using the Bellman equation:\n",
    "\n",
    "$$\n",
    "Q_{i+1}(s,a) = R + \\gamma \\max_{a'}Q_i(s',a')\n",
    "$$\n",
    "\n",
    "This iterative method converges to the optimal action-value function $Q^*(s,a)$ as $i\\to\\infty$. This means that the agent just needs to gradually explore the state-action space and keep updating the estimate of $Q(s,a)$ until it converges to the optimal action-value function $Q^*(s,a)$. However, in cases where the state space is continuous it becomes practically impossible to explore the entire state-action space. Consequently, this also makes it practically impossible to gradually estimate $Q(s,a)$ until it converges to $Q^*(s,a)$.\n",
    "\n",
    "In the Deep $Q$-Learning, we solve this problem by using a neural network to estimate the action-value function $Q(s,a)\\approx Q^*(s,a)$. We call this neural network a $Q$-Network and it can be trained by adjusting its weights at each iteration to minimize the mean-squared error in the Bellman equation.\n",
    "\n",
    "Unfortunately, using neural networks in reinforcement learning to estimate action-value functions has proven to be highly unstable. Luckily, there's a couple of techniques that can be employed to avoid instabilities. These techniques consist of using a ***Target Network*** and ***Experience Replay***. We will explore these two techniques in the following sections."
   ]
  },
  {
   "cell_type": "markdown",
   "metadata": {},
   "source": [
    "<a name=\"6.1\"></a>\n",
    "### 6.1 Target Network\n",
    "\n",
    "We can train the $Q$-Network by adjusting it's weights at each iteration to minimize the mean-squared error in the Bellman equation, where the target values are given by:\n",
    "\n",
    "$$\n",
    "y = R + \\gamma \\max_{a'}Q(s',a';w)\n",
    "$$\n",
    "\n",
    "where $w$ are the weights of the $Q$-Network. This means that we are adjusting the weights $w$ at each iteration to minimize the following error:\n",
    "\n",
    "$$\n",
    "\\overbrace{\\underbrace{R + \\gamma \\max_{a'}Q(s',a'; w)}_{\\rm {y~target}} - Q(s,a;w)}^{\\rm {Error}}\n",
    "$$\n",
    "\n",
    "Notice that this forms a problem because the $y$ target is changing on every iteration. Having a constantly moving target can lead to oscillations and instabilities. To avoid this, we can create\n",
    "a separate neural network for generating the $y$ targets. We call this separate neural network the **target $\\hat Q$-Network** and it will have the same architecture as the original $Q$-Network. By using the target $\\hat Q$-Network, the above error becomes:\n",
    "\n",
    "$$\n",
    "\\overbrace{\\underbrace{R + \\gamma \\max_{a'}\\hat{Q}(s',a'; w^-)}_{\\rm {y~target}} - Q(s,a;w)}^{\\rm {Error}}\n",
    "$$\n",
    "\n",
    "where $w^-$ and $w$ are the weights of the target $\\hat Q$-Network and $Q$-Network, respectively.\n",
    "\n",
    "In practice, we will use the following algorithm: every $C$ time steps we will use the $\\hat Q$-Network to generate the $y$ targets and update the weights of the target $\\hat Q$-Network using the weights of the $Q$-Network. We will update the weights $w^-$ of the the target $\\hat Q$-Network using a **soft update**. This means that we will update the weights $w^-$ using the following rule:\n",
    " \n",
    "$$\n",
    "w^-\\leftarrow \\tau w + (1 - \\tau) w^-\n",
    "$$\n",
    "\n",
    "where $\\tau\\ll 1$. By using the soft update, we are ensuring that the target values, $y$, change slowly, which greatly improves the stability of our learning algorithm."
   ]
  },
  {
   "cell_type": "markdown",
   "metadata": {},
   "source": [
    "<a name=\"ex01\"></a>\n",
    "### Exercise 1\n",
    "\n",
    "In this exercise you will create the $Q$ and target $\\hat Q$ networks and set the optimizer. Remember that the Deep $Q$-Network (DQN) is a neural network that approximates the action-value function $Q(s,a)\\approx Q^*(s,a)$. It does this by learning how to map states to $Q$ values.\n",
    "\n",
    "To solve the Lunar Lander environment, we are going to employ a DQN with the following architecture:\n",
    "\n",
    "* An `Input` layer that takes `state_size` as input.\n",
    "\n",
    "* A `Dense` layer with `64` units and a `relu` activation function.\n",
    "\n",
    "* A `Dense` layer with `64` units and a `relu` activation function.\n",
    "\n",
    "* A `Dense` layer with `num_actions` units and a `linear` activation function. This will be the output layer of our network.\n",
    "\n",
    "\n",
    "In the cell below you should create the $Q$-Network and the target $\\hat Q$-Network using the model architecture described above. Remember that both the $Q$-Network and the target $\\hat Q$-Network have the same architecture.\n",
    "\n",
    "Lastly, you should set `Adam` as the optimizer with a learning rate equal to `ALPHA`. Recall that `ALPHA` was defined in the [Hyperparameters](#2) section. We should note that for this exercise you should use the already imported packages:\n",
    "```python\n",
    "from tensorflow.keras.layers import Dense, Input\n",
    "from tensorflow.keras.optimizers import Adam\n",
    "```"
   ]
  },
  {
   "cell_type": "code",
   "execution_count": 28,
   "metadata": {},
   "outputs": [],
   "source": [
    "# Store experiences as named tuples\n",
    "experience = namedtuple(\"Experience\", field_names=[\"state\", \"action\", \"reward\", \"next_state\", \"done\"])"
   ]
  },
  {
   "cell_type": "code",
   "execution_count": 29,
   "metadata": {
    "deletable": false
   },
   "outputs": [],
   "source": [
    "# UNQ_C1\n",
    "# GRADED CELL\n",
    "\n",
    "# Create the Q-Network\n",
    "q_network = Sequential([\n",
    "    Input(shape=state_size),                      \n",
    "    Dense(units=64, activation='relu'),            \n",
    "    Dense(units=64, activation='relu'),            \n",
    "    Dense(units=num_actions, activation='linear'),\n",
    "    ])\n",
    "\n",
    "# Create the target Q^-Network\n",
    "target_q_network = Sequential([\n",
    "    Input(shape=state_size),                       \n",
    "    Dense(units=64, activation='relu'),            \n",
    "    Dense(units=64, activation='relu'),            \n",
    "    Dense(units=num_actions, activation='linear'), \n",
    "    ])\n",
    "\n",
    "### START CODE HERE ### \n",
    "optimizer = Adam(learning_rate=ALPHA)\n",
    "### END CODE HERE ###"
   ]
  },
  {
   "cell_type": "code",
   "execution_count": 30,
   "metadata": {
    "deletable": false,
    "editable": false
   },
   "outputs": [
    {
     "name": "stdout",
     "output_type": "stream",
     "text": [
      "\u001b[92mAll tests passed!\n",
      "\u001b[92mAll tests passed!\n",
      "\u001b[92mAll tests passed!\n"
     ]
    }
   ],
   "source": [
    "# UNIT TEST\n",
    "from public_tests import *\n",
    "\n",
    "test_network(q_network)\n",
    "test_network(target_q_network)\n",
    "test_optimizer(optimizer, ALPHA) "
   ]
  },
  {
   "cell_type": "markdown",
   "metadata": {},
   "source": [
    "<details>\n",
    "  <summary><font size=\"3\" color=\"darkgreen\"><b>Click for hints</b></font></summary>\n",
    "    \n",
    "```python\n",
    "# Create the Q-Network\n",
    "q_network = Sequential([\n",
    "    Input(shape=state_size),                      \n",
    "    Dense(units=64, activation='relu'),            \n",
    "    Dense(units=64, activation='relu'),            \n",
    "    Dense(units=num_actions, activation='linear'),\n",
    "    ])\n",
    "\n",
    "# Create the target Q^-Network\n",
    "target_q_network = Sequential([\n",
    "    Input(shape=state_size),                       \n",
    "    Dense(units=64, activation='relu'),            \n",
    "    Dense(units=64, activation='relu'),            \n",
    "    Dense(units=num_actions, activation='linear'), \n",
    "    ])\n",
    "\n",
    "optimizer = Adam(learning_rate=ALPHA)                                  \n",
    "``` "
   ]
  },
  {
   "cell_type": "markdown",
   "metadata": {},
   "source": [
    "<a name=\"6.2\"></a>\n",
    "### 6.2 Experience Replay\n",
    "\n",
    "When an agent interacts with the environment, the states, actions, and rewards the agent experiences are sequential by nature. If the agent tries to learn from these consecutive experiences it can run into problems due to the strong correlations between them. To avoid this, we employ a technique known as **Experience Replay** to generate uncorrelated experiences for training our agent. Experience replay consists of storing the agent's experiences (i.e the states, actions, and rewards the agent receives) in a memory buffer and then sampling a random mini-batch of experiences from the buffer to do the learning. The experience tuples $(S_t, A_t, R_t, S_{t+1})$ will be added to the memory buffer at each time step as the agent interacts with the environment.\n",
    "\n",
    "For convenience, we will store the experiences as named tuples."
   ]
  },
  {
   "cell_type": "code",
   "execution_count": 31,
   "metadata": {
    "deletable": false,
    "editable": false
   },
   "outputs": [],
   "source": [
    "# Store experiences as named tuples\n",
    "experience = namedtuple(\"Experience\", field_names=[\"state\", \"action\", \"reward\", \"next_state\", \"done\"])"
   ]
  },
  {
   "cell_type": "markdown",
   "metadata": {},
   "source": [
    "By using experience replay we avoid problematic correlations, oscillations and instabilities. In addition, experience replay also allows the agent to potentially use the same experience in multiple weight updates, which increases data efficiency."
   ]
  },
  {
   "cell_type": "markdown",
   "metadata": {},
   "source": [
    "<a name=\"7\"></a>\n",
    "## 7 - Deep Q-Learning Algorithm with Experience Replay\n",
    "\n",
    "Now that we know all the techniques that we are going to use, we can put them together to arrive at the Deep Q-Learning Algorithm With Experience Replay.\n",
    "<br>\n",
    "<br>\n",
    "<figure>\n",
    "  <img src = \"images/deep_q_algorithm.png\" width = 90% style = \"border: thin silver solid; padding: 0px\">\n",
    "      <figcaption style = \"text-align: center; font-style: italic\">Fig 3. Deep Q-Learning with Experience Replay.</figcaption>\n",
    "</figure>"
   ]
  },
  {
   "cell_type": "markdown",
   "metadata": {},
   "source": [
    "<a name=\"ex02\"></a>\n",
    "### Exercise 2\n",
    "\n",
    "In this exercise you will implement line ***12*** of the algorithm outlined in *Fig 3* above and you will also compute the loss between the $y$ targets and the $Q(s,a)$ values. In the cell below, complete the `compute_loss` function by setting the $y$ targets equal to:\n",
    "\n",
    "$$\n",
    "\\begin{equation}\n",
    "    y_j =\n",
    "    \\begin{cases}\n",
    "      R_j & \\text{if episode terminates at step  } j+1\\\\\n",
    "      R_j + \\gamma \\max_{a'}\\hat{Q}(s_{j+1},a') & \\text{otherwise}\\\\\n",
    "    \\end{cases}       \n",
    "\\end{equation}\n",
    "$$\n",
    "\n",
    "Here are a couple of things to note:\n",
    "\n",
    "* The `compute_loss` function takes in a mini-batch of experience tuples. This mini-batch of experience tuples is unpacked to extract the `states`, `actions`, `rewards`, `next_states`, and `done_vals`. You should keep in mind that these variables are *TensorFlow Tensors* whose size will depend on the mini-batch size. For example, if the mini-batch size is `64` then both `rewards` and `done_vals` will be TensorFlow Tensors with `64` elements.\n",
    "\n",
    "\n",
    "* Using `if/else` statements to set the $y$ targets will not work when the variables are tensors with many elements. However, notice that you can use the `done_vals` to implement the above in a single line of code. To do this, recall that the `done` variable is a Boolean variable that takes the value `True` when an episode terminates at step $j+1$ and it is `False` otherwise. Taking into account that a Boolean value of `True` has the numerical value of `1` and a Boolean value of `False` has the numerical value of `0`, you can use the factor `(1 - done_vals)` to implement the above in a single line of code. Here's a hint: notice that `(1 - done_vals)` has a value of `0` when `done_vals` is `True` and a value of `1` when `done_vals` is `False`. \n",
    "\n",
    "Lastly, compute the loss by calculating the Mean-Squared Error (`MSE`) between the `y_targets` and the `q_values`. To calculate the mean-squared error you should use the already imported package `MSE`:\n",
    "```python\n",
    "from tensorflow.keras.losses import MSE\n",
    "```"
   ]
  },
  {
   "cell_type": "code",
   "execution_count": 32,
   "metadata": {
    "deletable": false
   },
   "outputs": [],
   "source": [
    "# UNQ_C2\n",
    "# GRADED FUNCTION: calculate_loss\n",
    "\n",
    "def compute_loss(experiences, gamma, q_network, target_q_network):\n",
    "    \"\"\" \n",
    "    Calculates the loss.\n",
    "    \n",
    "    Args:\n",
    "      experiences: (tuple) tuple of [\"state\", \"action\", \"reward\", \"next_state\", \"done\"] namedtuples\n",
    "      gamma: (float) The discount factor.\n",
    "      q_network: (tf.keras.Sequential) Keras model for predicting the q_values\n",
    "      target_q_network: (tf.keras.Sequential) Karas model for predicting the targets\n",
    "          \n",
    "    Returns:\n",
    "      loss: (TensorFlow Tensor(shape=(0,), dtype=int32)) the Mean-Squared Error between\n",
    "            the y targets and the Q(s,a) values.\n",
    "    \"\"\"\n",
    "    \n",
    "    # Unpack the mini-batch of experience tuples\n",
    "    states, actions, rewards, next_states, done_vals = experiences\n",
    "    \n",
    "    # Compute max Q^(s,a)\n",
    "    max_qsa = tf.reduce_max(target_q_network(next_states), axis=-1)\n",
    "    \n",
    "    # Set y = R if episode terminates, otherwise set y = R + γ max Q^(s,a).\n",
    "    ### START CODE HERE ### \n",
    "    y_targets = rewards + (gamma * max_qsa * (1 - done_vals))\n",
    "    ### END CODE HERE ###\n",
    "    \n",
    "    # Get the q_values\n",
    "    q_values = q_network(states)\n",
    "    q_values = tf.gather_nd(q_values, tf.stack([tf.range(q_values.shape[0]),\n",
    "                                                tf.cast(actions, tf.int32)], axis=1))\n",
    "        \n",
    "    # Compute the loss\n",
    "    ### START CODE HERE ### \n",
    "    loss = MSE(y_targets, q_values) \n",
    "    ### END CODE HERE ### \n",
    "    \n",
    "    return loss"
   ]
  },
  {
   "cell_type": "code",
   "execution_count": 33,
   "metadata": {
    "deletable": false,
    "editable": false
   },
   "outputs": [
    {
     "name": "stdout",
     "output_type": "stream",
     "text": [
      "\u001b[92mAll tests passed!\n"
     ]
    }
   ],
   "source": [
    "# UNIT TEST    \n",
    "test_compute_loss(compute_loss)"
   ]
  },
  {
   "cell_type": "markdown",
   "metadata": {},
   "source": [
    "<details>\n",
    "  <summary><font size=\"3\" color=\"darkgreen\"><b>Click for hints</b></font></summary>\n",
    "    \n",
    "```python\n",
    "def compute_loss(experiences, gamma, q_network, target_q_network):\n",
    "    \"\"\" \n",
    "    Calculates the loss.\n",
    "    \n",
    "    Args:\n",
    "      experiences: (tuple) tuple of [\"state\", \"action\", \"reward\", \"next_state\", \"done\"] namedtuples\n",
    "      gamma: (float) The discount factor.\n",
    "      q_network: (tf.keras.Sequential) Keras model for predicting the q_values\n",
    "      target_q_network: (tf.keras.Sequential) Keras model for predicting the targets\n",
    "          \n",
    "    Returns:\n",
    "      loss: (TensorFlow Tensor(shape=(0,), dtype=int32)) the Mean-Squared Error between\n",
    "            the y targets and the Q(s,a) values.\n",
    "    \"\"\"\n",
    "\n",
    "    \n",
    "    # Unpack the mini-batch of experience tuples\n",
    "    states, actions, rewards, next_states, done_vals = experiences\n",
    "    \n",
    "    # Compute max Q^(s,a)\n",
    "    max_qsa = tf.reduce_max(target_q_network(next_states), axis=-1)\n",
    "    \n",
    "    # Set y = R if episode terminates, otherwise set y = R + γ max Q^(s,a).\n",
    "    y_targets = rewards + (gamma * max_qsa * (1 - done_vals))\n",
    "    \n",
    "    # Get the q_values\n",
    "    q_values = q_network(states)\n",
    "    q_values = tf.gather_nd(q_values, tf.stack([tf.range(q_values.shape[0]),\n",
    "                                                tf.cast(actions, tf.int32)], axis=1))\n",
    "    \n",
    "    # Calculate the loss\n",
    "    loss = MSE(y_targets, q_values)\n",
    "    \n",
    "    return loss\n",
    "\n",
    "``` \n",
    "    "
   ]
  },
  {
   "cell_type": "markdown",
   "metadata": {},
   "source": [
    "<a name=\"8\"></a>\n",
    "## 8 - Update the Network Weights\n",
    "\n",
    "We will use the `agent_learn` function below to implement lines ***12 -14*** of the algorithm outlined in [Fig 3](#7). The `agent_learn` function will update the weights of the $Q$ and target $\\hat Q$ networks using a custom training loop. Because we are using a custom training loop we need to retrieve the gradients via a `tf.GradientTape` instance, and then call `optimizer.apply_gradients()` to update the weights of our $Q$-Network. Note that we are also using the `@tf.function` decorator to increase performance. Without this decorator our training will take twice as long. If you would like to know more about how to increase performance with `@tf.function` take a look at the [TensorFlow documentation](https://www.tensorflow.org/guide/function).\n",
    "\n",
    "The last line of this function updates the weights of the target $\\hat Q$-Network using a [soft update](#6.1). If you want to know how this is implemented in code we encourage you to take a look at the `utils.update_target_network` function in the `utils` module."
   ]
  },
  {
   "cell_type": "code",
   "execution_count": 34,
   "metadata": {
    "deletable": false,
    "editable": false
   },
   "outputs": [],
   "source": [
    "@tf.function\n",
    "def agent_learn(experiences, gamma):\n",
    "    \"\"\"\n",
    "    Updates the weights of the Q networks.\n",
    "    \n",
    "    Args:\n",
    "      experiences: (tuple) tuple of [\"state\", \"action\", \"reward\", \"next_state\", \"done\"] namedtuples\n",
    "      gamma: (float) The discount factor.\n",
    "    \n",
    "    \"\"\"\n",
    "    \n",
    "    # Calculate the loss\n",
    "    with tf.GradientTape() as tape:\n",
    "        loss = compute_loss(experiences, gamma, q_network, target_q_network)\n",
    "\n",
    "    # Get the gradients of the loss with respect to the weights.\n",
    "    gradients = tape.gradient(loss, q_network.trainable_variables)\n",
    "    \n",
    "    # Update the weights of the q_network.\n",
    "    optimizer.apply_gradients(zip(gradients, q_network.trainable_variables))\n",
    "\n",
    "    # update the weights of target q_network\n",
    "    utils.update_target_network(q_network, target_q_network)"
   ]
  },
  {
   "cell_type": "markdown",
   "metadata": {},
   "source": [
    "<a name=\"9\"></a>\n",
    "## 9 - Train the Agent\n",
    "\n",
    "We are now ready to train our agent to solve the Lunar Lander environment. In the cell below we will implement the algorithm in [Fig 3](#7) line by line (please note that we have included the same algorithm below for easy reference. This will prevent you from scrolling up and down the notebook):\n",
    "\n",
    "* **Line 1**: We initialize the `memory_buffer` with a capacity of $N =$ `MEMORY_SIZE`. Notice that we are using a `deque` as the data structure for our `memory_buffer`.\n",
    "\n",
    "\n",
    "* **Line 2**: We skip this line since we already initialized the `q_network` in [Exercise 1](#ex01).\n",
    "\n",
    "\n",
    "* **Line 3**: We initialize the `target_q_network` by setting its weights to be equal to those of the `q_network`.\n",
    "\n",
    "\n",
    "* **Line 4**: We start the outer loop. Notice that we have set $M =$ `num_episodes = 2000`. This number is reasonable because the agent should be able to solve the Lunar Lander environment in less than `2000` episodes using this notebook's default parameters.\n",
    "\n",
    "\n",
    "* **Line 5**: We use the `.reset()` method to reset the environment to the initial state and get the initial state.\n",
    "\n",
    "\n",
    "* **Line 6**: We start the inner loop. Notice that we have set $T =$ `max_num_timesteps = 1000`. This means that the episode will automatically terminate if the episode hasn't terminated after `1000` time steps.\n",
    "\n",
    "\n",
    "* **Line 7**: The agent observes the current `state` and chooses an `action` using an $\\epsilon$-greedy policy. Our agent starts out using a value of $\\epsilon =$ `epsilon = 1` which yields an $\\epsilon$-greedy policy that is equivalent to the equiprobable random policy. This means that at the beginning of our training, the agent is just going to take random actions regardless of the observed `state`. As training progresses we will decrease the value of $\\epsilon$ slowly towards a minimum value using a given $\\epsilon$-decay rate. We want this minimum value to be close to zero because a value of $\\epsilon = 0$ will yield an $\\epsilon$-greedy policy that is equivalent to the greedy policy. This means that towards the end of training, the agent will lean towards selecting the `action` that it believes (based on its past experiences) will maximize $Q(s,a)$. We will set the minimum $\\epsilon$ value to be `0.01` and not exactly 0 because we always want to keep a little bit of exploration during training. If you want to know how this is implemented in code we encourage you to take a look at the `utils.get_action` function in the `utils` module.\n",
    "\n",
    "\n",
    "* **Line 8**: We use the `.step()` method to take the given `action` in the environment and get the `reward` and the `next_state`. \n",
    "\n",
    "\n",
    "* **Line 9**: We store the `experience(state, action, reward, next_state, done)` tuple in our `memory_buffer`. Notice that we also store the `done` variable so that we can keep track of when an episode terminates. This allowed us to set the $y$ targets in [Exercise 2](#ex02).\n",
    "\n",
    "\n",
    "* **Line 10**: We check if the conditions are met to perform a learning update. We do this by using our custom `utils.check_update_conditions` function. This function checks if $C =$ `NUM_STEPS_FOR_UPDATE = 4` time steps have occured and if our `memory_buffer` has enough experience tuples to fill a mini-batch. For example, if the mini-batch size is `64`, then our `memory_buffer` should have more than `64` experience tuples in order to pass the latter condition. If the conditions are met, then the `utils.check_update_conditions` function will return a value of `True`, otherwise it will return a value of `False`.\n",
    "\n",
    "\n",
    "* **Lines 11 - 14**: If the `update` variable is `True` then we perform a learning update. The learning update consists of sampling a random mini-batch of experience tuples from our `memory_buffer`, setting the $y$ targets, performing gradient descent, and updating the weights of the networks. We will use the `agent_learn` function we defined in [Section 8](#8) to perform the latter 3.\n",
    "\n",
    "\n",
    "* **Line 15**: At the end of each iteration of the inner loop we set `next_state` as our new `state` so that the loop can start again from this new state. In addition, we check if the episode has reached a terminal state (i.e we check if `done = True`). If a terminal state has been reached, then we break out of the inner loop.\n",
    "\n",
    "\n",
    "* **Line 16**: At the end of each iteration of the outer loop we update the value of $\\epsilon$, and check if the environment has been solved. We consider that the environment has been solved if the agent receives an average of `200` points in the last `100` episodes. If the environment has not been solved we continue the outer loop and start a new episode.\n",
    "\n",
    "Finally, we wanted to note that we have included some extra variables to keep track of the total number of points the agent received in each episode. This will help us determine if the agent has solved the environment and it will also allow us to see how our agent performed during training. We also use the `time` module to measure how long the training takes. \n",
    "\n",
    "<br>\n",
    "<br>\n",
    "<figure>\n",
    "  <img src = \"images/deep_q_algorithm.png\" width = 90% style = \"border: thin silver solid; padding: 0px\">\n",
    "      <figcaption style = \"text-align: center; font-style: italic\">Fig 4. Deep Q-Learning with Experience Replay.</figcaption>\n",
    "</figure>\n",
    "<br>\n",
    "\n",
    "**Note:** With this notebook's default parameters, the following cell takes between 10 to 15 minutes to run. "
   ]
  },
  {
   "cell_type": "code",
   "execution_count": 35,
   "metadata": {
    "deletable": false,
    "editable": false
   },
   "outputs": [
    {
     "name": "stdout",
     "output_type": "stream",
     "text": [
      "Episode 100 | Total point average of the last 100 episodes: -140.42\n",
      "Episode 200 | Total point average of the last 100 episodes: -85.342\n",
      "Episode 300 | Total point average of the last 100 episodes: -35.13\n",
      "Episode 400 | Total point average of the last 100 episodes: 93.482\n",
      "Episode 500 | Total point average of the last 100 episodes: 191.45\n",
      "Episode 600 | Total point average of the last 100 episodes: 174.52\n",
      "Episode 700 | Total point average of the last 100 episodes: 176.87\n",
      "Episode 756 | Total point average of the last 100 episodes: 201.58\n",
      "\n",
      "Environment solved in 756 episodes!\n",
      "\n",
      "Total Runtime: 904.97 s (15.08 min)\n"
     ]
    }
   ],
   "source": [
    "start = time.time()\n",
    "\n",
    "num_episodes = 2000\n",
    "max_num_timesteps = 1000\n",
    "\n",
    "total_point_history = []\n",
    "\n",
    "num_p_av = 100    # number of total points to use for averaging\n",
    "epsilon = 1.0     # initial ε value for ε-greedy policy\n",
    "\n",
    "# Create a memory buffer D with capacity N\n",
    "memory_buffer = deque(maxlen=MEMORY_SIZE)\n",
    "\n",
    "# Set the target network weights equal to the Q-Network weights\n",
    "target_q_network.set_weights(q_network.get_weights())\n",
    "\n",
    "for i in range(num_episodes):\n",
    "    \n",
    "    # Reset the environment to the initial state and get the initial state\n",
    "    state = env.reset()\n",
    "    total_points = 0\n",
    "    \n",
    "    for t in range(max_num_timesteps):\n",
    "        \n",
    "        # From the current state S choose an action A using an ε-greedy policy\n",
    "        state_qn = np.expand_dims(state, axis=0)  # state needs to be the right shape for the q_network\n",
    "        q_values = q_network(state_qn)\n",
    "        action = utils.get_action(q_values, epsilon)\n",
    "        \n",
    "        # Take action A and receive reward R and the next state S'\n",
    "        next_state, reward, done, _ = env.step(action)\n",
    "        \n",
    "        # Store experience tuple (S,A,R,S') in the memory buffer.\n",
    "        # We store the done variable as well for convenience.\n",
    "        memory_buffer.append(experience(state, action, reward, next_state, done))\n",
    "        \n",
    "        # Only update the network every NUM_STEPS_FOR_UPDATE time steps.\n",
    "        update = utils.check_update_conditions(t, NUM_STEPS_FOR_UPDATE, memory_buffer)\n",
    "        \n",
    "        if update:\n",
    "            # Sample random mini-batch of experience tuples (S,A,R,S') from D\n",
    "            experiences = utils.get_experiences(memory_buffer)\n",
    "            \n",
    "            # Set the y targets, perform a gradient descent step,\n",
    "            # and update the network weights.\n",
    "            agent_learn(experiences, GAMMA)\n",
    "        \n",
    "        state = next_state.copy()\n",
    "        total_points += reward\n",
    "        \n",
    "        if done:\n",
    "            break\n",
    "            \n",
    "    total_point_history.append(total_points)\n",
    "    av_latest_points = np.mean(total_point_history[-num_p_av:])\n",
    "    \n",
    "    # Update the ε value\n",
    "    epsilon = utils.get_new_eps(epsilon)\n",
    "\n",
    "    print(f\"\\rEpisode {i+1} | Total point average of the last {num_p_av} episodes: {av_latest_points:.2f}\", end=\"\")\n",
    "\n",
    "    if (i+1) % num_p_av == 0:\n",
    "        print(f\"\\rEpisode {i+1} | Total point average of the last {num_p_av} episodes: {av_latest_points:.2f}\")\n",
    "\n",
    "    # We will consider that the environment is solved if we get an\n",
    "    # average of 200 points in the last 100 episodes.\n",
    "    if av_latest_points >= 200.0:\n",
    "        print(f\"\\n\\nEnvironment solved in {i+1} episodes!\")\n",
    "        q_network.save('lunar_lander_model.h5')\n",
    "        break\n",
    "        \n",
    "tot_time = time.time() - start\n",
    "\n",
    "print(f\"\\nTotal Runtime: {tot_time:.2f} s ({(tot_time/60):.2f} min)\")"
   ]
  },
  {
   "cell_type": "markdown",
   "metadata": {},
   "source": [
    "We can plot the total point history along with the moving average to see how our agent improved during training. If you want to know about the different plotting options available in the `utils.plot_history` function we encourage you to take a look at the `utils` module."
   ]
  },
  {
   "cell_type": "code",
   "execution_count": 36,
   "metadata": {
    "deletable": false,
    "editable": false,
    "id": "E_EUXxurfe8m",
    "scrolled": false
   },
   "outputs": [
    {
     "data": {
      "image/png": "[encoded data removed]",
      "text/plain": [
       "<Figure size 720x504 with 1 Axes>"
      ]
     },
     "metadata": {},
     "output_type": "display_data"
    }
   ],
   "source": [
    "# Plot the total point history along with the moving average\n",
    "utils.plot_history(total_point_history)"
   ]
  },
  {
   "cell_type": "markdown",
   "metadata": {
    "id": "c_xwgaX5MnYt"
   },
   "source": [
    "<a name=\"10\"></a>\n",
    "## 10 - See the Trained Agent In Action\n",
    "\n",
    "Now that we have trained our agent, we can see it in action. We will use the `utils.create_video` function to create a video of our agent interacting with the environment using the trained $Q$-Network. The `utils.create_video` function uses the `imageio` library to create the video. This library produces some warnings that can be distracting, so, to suppress these warnings we run the code below."
   ]
  },
  {
   "cell_type": "code",
   "execution_count": 37,
   "metadata": {
    "deletable": false,
    "editable": false
   },
   "outputs": [],
   "source": [
    "# Suppress warnings from imageio\n",
    "import logging\n",
    "logging.getLogger().setLevel(logging.ERROR)"
   ]
  },
  {
   "cell_type": "markdown",
   "metadata": {},
   "source": [
    "In the cell below we create a video of our agent interacting with the Lunar Lander environment using the trained `q_network`. The video is saved to the `videos` folder with the given `filename`. We use the `utils.embed_mp4` function to embed the video in the Jupyter Notebook so that we can see it here directly without having to download it.\n",
    "\n",
    "We should note that since the lunar lander starts with a random initial force applied to its center of mass, every time you run the cell below you will see a different video. If the agent was trained properly, it should be able to land the lunar lander in the landing pad every time, regardless of the initial force applied to its center of mass."
   ]
  },
  {
   "cell_type": "code",
   "execution_count": 38,
   "metadata": {
    "deletable": false,
    "editable": false,
    "id": "3Ttb_zLeJKiG"
   },
   "outputs": [
    {
     "data": {
      "text/html": [
       "\n",
       "    <video width=\"840\" height=\"480\" controls>\n",
       "    <source src=\"data:video/mp4;base64,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\" type=\"video/mp4\">\n",
       "    Your browser does not support the video tag.\n",
       "    </video>"
      ],
      "text/plain": [
       "<IPython.core.display.HTML object>"
      ]
     },
     "execution_count": 38,
     "metadata": {},
     "output_type": "execute_result"
    }
   ],
   "source": [
    "filename = \"./videos/lunar_lander.mp4\"\n",
    "\n",
    "utils.create_video(filename, env, q_network)\n",
    "utils.embed_mp4(filename)"
   ]
  },
  {
   "cell_type": "markdown",
   "metadata": {},
   "source": [
    "<a name=\"11\"></a>\n",
    "## 11 - Congratulations!\n",
    "\n",
    "You have successfully used Deep Q-Learning with Experience Replay to train an agent to land a lunar lander safely on a landing pad on the surface of the moon. Congratulations!"
   ]
  },
  {
   "cell_type": "markdown",
   "metadata": {},
   "source": [
    "<a name=\"12\"></a>\n",
    "## 12 - References\n",
    "\n",
    "If you would like to learn more about Deep Q-Learning, we recommend you check out the following papers.\n",
    "\n",
    "\n",
    "* Mnih, V., Kavukcuoglu, K., Silver, D. et al. Human-level control through deep reinforcement learning. Nature 518, 529–533 (2015).\n",
    "\n",
    "\n",
    "* Lillicrap, T. P., Hunt, J. J., Pritzel, A., et al. Continuous Control with Deep Reinforcement Learning. ICLR (2016).\n",
    "\n",
    "\n",
    "* Mnih, V., Kavukcuoglu, K., Silver, D. et al. Playing Atari with Deep Reinforcement Learning. arXiv e-prints.  arXiv:1312.5602 (2013)."
   ]
  },
  {
   "cell_type": "markdown",
   "metadata": {},
   "source": [
    "<details>\n",
    "  <summary><font size=\"2\" color=\"darkgreen\"><b>Please click here if you want to experiment with any of the non-graded code.</b></font></summary>\n",
    "    <p><i><b>Important Note: Please only do this when you've already passed the assignment to avoid problems with the autograder.</b></i>\n",
    "    <ol>\n",
    "        <li> On the notebook’s menu, click “View” > “Cell Toolbar” > “Edit Metadata”</li>\n",
    "        <li> Hit the “Edit Metadata” button next to the code cell which you want to lock/unlock</li>\n",
    "        <li> Set the attribute value for “editable” to:\n",
    "            <ul>\n",
    "                <li> “true” if you want to unlock it </li>\n",
    "                <li> “false” if you want to lock it </li>\n",
    "            </ul>\n",
    "        </li>\n",
    "        <li> On the notebook’s menu, click “View” > “Cell Toolbar” > “None” </li>\n",
    "    </ol>\n",
    "    <p> Here's a short demo of how to do the steps above: \n",
    "        <br>\n",
    "        <img src=\"https://lh3.google.com/u/0/d/14Xy_Mb17CZVgzVAgq7NCjMVBvSae3xO1\" align=\"center\" alt=\"unlock_cells.gif\">\n",
    "</details>"
   ]
  }
 ],
 "metadata": {
  "accelerator": "GPU",
  "colab": {
   "collapsed_sections": [],
   "name": "TensorFlow - Lunar Lander.ipynb",
   "provenance": []
  },
  "kernelspec": {
   "display_name": "Python 3",
   "language": "python",
   "name": "python3"
  },
  "language_info": {
   "codemirror_mode": {
    "name": "ipython",
    "version": 3
   },
   "file_extension": ".py",
   "mimetype": "text/x-python",
   "name": "python",
   "nbconvert_exporter": "python",
   "pygments_lexer": "ipython3",
   "version": "3.7.6"
  }
 },
 "nbformat": 4,
 "nbformat_minor": 1
}
